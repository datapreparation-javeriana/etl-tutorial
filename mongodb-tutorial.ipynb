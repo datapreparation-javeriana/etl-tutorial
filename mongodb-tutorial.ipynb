{
 "cells": [
  {
   "cell_type": "markdown",
   "metadata": {},
   "source": [
    "<a href=\"https://colab.research.google.com/github/datapreparation-javeriana/etl-tutorial/blob/master/etl-tutorial.ipynb\" target=\"_parent\"><img src=\"https://colab.research.google.com/assets/colab-badge.svg\" alt=\"Open In Colab\"/></a>"
   ]
  },
  {
   "cell_type": "markdown",
   "metadata": {},
   "source": [
    "# MongoDB tutorial\n",
    "\n",
    "Data Management course  \n",
    "Univerisdad Javeriana  \n",
    "February, 2023\n",
    "\n",
    "Dataset: AirBnB reviews"
   ]
  },
  {
   "cell_type": "code",
   "execution_count": null,
   "metadata": {
    "tags": []
   },
   "outputs": [],
   "source": [
    "pip install pymongo[srv]"
   ]
  },
  {
   "cell_type": "code",
   "execution_count": null,
   "metadata": {},
   "outputs": [],
   "source": [
    "from datetime import datetime\n",
    "\n",
    "import pymongo"
   ]
  },
  {
   "cell_type": "code",
   "execution_count": null,
   "metadata": {},
   "outputs": [],
   "source": [
    "DB_NAME = \"sample_airbnb\"\n",
    "COLLECTION = \"listingsAndReviews\""
   ]
  },
  {
   "cell_type": "code",
   "execution_count": null,
   "metadata": {},
   "outputs": [],
   "source": [
    "client = pymongo.MongoClient(\"mongodb+srv://<username>:<password>@cluster0.<cluster_id>.mongodb.net/?retryWrites=true&w=majority\", server_api = pymongo.server_api.ServerApi('1'))"
   ]
  },
  {
   "cell_type": "code",
   "execution_count": null,
   "metadata": {},
   "outputs": [],
   "source": [
    "db = client[DB_NAME]"
   ]
  },
  {
   "cell_type": "code",
   "execution_count": null,
   "metadata": {},
   "outputs": [],
   "source": [
    "col = db[COLLECTION]"
   ]
  },
  {
   "cell_type": "markdown",
   "metadata": {},
   "source": [
    "### Basic queries"
   ]
  },
  {
   "cell_type": "code",
   "execution_count": null,
   "metadata": {
    "tags": []
   },
   "outputs": [],
   "source": [
    "# Getting one element\n",
    "# MongoDB equivalent: findOne({})\n",
    "# SQL equivalent: SELECT * FROM airbnb LIMIT 1\n",
    "col.find_one({})"
   ]
  },
  {
   "cell_type": "code",
   "execution_count": null,
   "metadata": {
    "tags": []
   },
   "outputs": [],
   "source": [
    "# Getting distict values for a key\n",
    "# SQL equivalent: SELECT DISTINCT(property_type) FROM airbnb\n",
    "col.distinct(\"property_type\")"
   ]
  },
  {
   "cell_type": "code",
   "execution_count": null,
   "metadata": {},
   "outputs": [],
   "source": [
    "# Counting all documents\n",
    "# MongoDB equivalent: count({})\n",
    "# SQL equivalent: SELECT COUNT(*) FROM airbnb\n",
    "col.count_documents({})"
   ]
  },
  {
   "cell_type": "code",
   "execution_count": null,
   "metadata": {
    "tags": []
   },
   "outputs": [],
   "source": [
    "# Specifying equality condition\n",
    "# SQL equivalent: SELECT * FROM airbnb WHERE _id = \"10030955\"\n",
    "col.find({\"_id\": \"10030955\"})[0]"
   ]
  },
  {
   "cell_type": "code",
   "execution_count": null,
   "metadata": {
    "tags": []
   },
   "outputs": [],
   "source": [
    "# Specifying condition with query operators, https://docs.mongodb.com/manual/reference/operator/query/#std-label-query-selectors \n",
    "# SQL equivalent: SELECT * FROM airbnb WHERE bedrooms IN (1, 2)\n",
    "col.find({\"bedrooms\": {\"$in\": [1, 2]}})[0]"
   ]
  },
  {
   "cell_type": "code",
   "execution_count": null,
   "metadata": {
    "tags": []
   },
   "outputs": [],
   "source": [
    "# Specifying AND conditions\n",
    "# SQL equivalent: SELECT * FROM airbnb WHERE bedrooms > 8 AND bathrooms >= 5\n",
    "col.find({\"bedrooms\": {\"$gt\": 8}, \"bathrooms\":  {\"$gte\": 5}})[0]"
   ]
  },
  {
   "cell_type": "code",
   "execution_count": null,
   "metadata": {
    "tags": []
   },
   "outputs": [],
   "source": [
    "# Specifying OR conditions\n",
    "# SQL equivalent: SELECT * FROM airbnb WHERE price < 50 OR minimum_nights <= 3\n",
    "col.find({\"$or\": [{\"price\": {\"$lt\": 50}}, {\"minimum_nights\": {\"$lte\": 3}}]})[0]"
   ]
  },
  {
   "cell_type": "code",
   "execution_count": null,
   "metadata": {
    "tags": []
   },
   "outputs": [],
   "source": [
    "# Specifying AND and OR conditions, regex: https://docs.mongodb.com/manual/reference/operator/query/regex/#mongodb-query-op.-regex\n",
    "# SQL equivalent: SELECT * FROM airbnb WHERE property_type = \"House\" AND ( bed_type = \"Real Bed\" OR summary LIKE \"%beach%\")\n",
    "col.find({\n",
    "    \"property_type\": \"House\",\n",
    "    \"$or\": [{\"bed_type\": \"Real Bed\"}, {\"summary\": {\"$regex\": \"^beach$\"}}]\n",
    "})[0]"
   ]
  },
  {
   "cell_type": "markdown",
   "metadata": {},
   "source": [
    "### Queries on embedded/nested documents"
   ]
  },
  {
   "cell_type": "code",
   "execution_count": null,
   "metadata": {
    "tags": []
   },
   "outputs": [],
   "source": [
    "# Specifying equality on sub-collection\n",
    "col.find({\"address.country\": \"Spain\"})[0]"
   ]
  },
  {
   "cell_type": "markdown",
   "metadata": {},
   "source": [
    "### Queries on arrays"
   ]
  },
  {
   "cell_type": "code",
   "execution_count": null,
   "metadata": {
    "tags": []
   },
   "outputs": [],
   "source": [
    "# Specifying equality on array with exactly these two elements in the specified order\n",
    "col.find({\"amenities\": [\"TV\", \"Wifi\"]})[0]"
   ]
  },
  {
   "cell_type": "code",
   "execution_count": null,
   "metadata": {
    "tags": []
   },
   "outputs": [],
   "source": [
    "# Specifying documents with at least these two elements without regard to order\n",
    "col.find({\"amenities\": {\"$all\": [\"TV\", \"Wifi\"]}})[0]"
   ]
  },
  {
   "cell_type": "code",
   "execution_count": null,
   "metadata": {
    "tags": []
   },
   "outputs": [],
   "source": [
    "# Specifying documents with at least this element\n",
    "col.find({\"amenities\": \"Pool\"})[0]"
   ]
  },
  {
   "cell_type": "markdown",
   "metadata": {},
   "source": [
    "More about queries on arrays: https://docs.mongodb.com/manual/tutorial/query-arrays/"
   ]
  },
  {
   "cell_type": "markdown",
   "metadata": {},
   "source": [
    "### Queries on arrays of embedded documents"
   ]
  },
  {
   "cell_type": "code",
   "execution_count": null,
   "metadata": {
    "tags": []
   },
   "outputs": [],
   "source": [
    "col.find({\"reviews.date\": {\"$gte\": datetime(2019, 3, 1)}})[0]"
   ]
  },
  {
   "cell_type": "code",
   "execution_count": null,
   "metadata": {
    "tags": []
   },
   "outputs": [],
   "source": [
    "col.find({\"reviews.0.date\": {\"$lte\": datetime(2010, 1, 1)}})[0]"
   ]
  },
  {
   "cell_type": "markdown",
   "metadata": {},
   "source": [
    "More about queries on arrays of embedded documents: https://docs.mongodb.com/manual/tutorial/query-array-of-documents/"
   ]
  },
  {
   "cell_type": "markdown",
   "metadata": {},
   "source": [
    "### Project fields"
   ]
  },
  {
   "cell_type": "code",
   "execution_count": null,
   "metadata": {},
   "outputs": [],
   "source": [
    "# SQL equivalent: SELECT _id, name, property_type FROM airbnb LIMIT 5\n",
    "for x in col.find({}, {\"name\": 1, \"property_type\": 1}).limit(5):\n",
    "    print(x)"
   ]
  },
  {
   "cell_type": "code",
   "execution_count": null,
   "metadata": {},
   "outputs": [],
   "source": [
    "# SQL equivalent: SELECT name, property_type FROM airbnb LIMIT 5\n",
    "for x in col.find({}, {\"_id\": 0, \"name\": 1, \"property_type\": 1}).limit(5):\n",
    "    print(x)"
   ]
  },
  {
   "cell_type": "code",
   "execution_count": null,
   "metadata": {
    "tags": []
   },
   "outputs": [],
   "source": [
    "# SQL equivalent: SELECT * EXCEPT(summary, description, host, images) FROM airbnb\n",
    "col.find({}, {\"summary\": 0, \"description\": 0, \"host\": 0, \"images\": 0})[0]"
   ]
  },
  {
   "cell_type": "code",
   "execution_count": null,
   "metadata": {},
   "outputs": [],
   "source": [
    "for x in col.find({}, {\"_id\": 0, \"name\": 1, \"property_type\": 1, \"host.host_name\": 1}).limit(5):\n",
    "    print(x)"
   ]
  },
  {
   "cell_type": "code",
   "execution_count": null,
   "metadata": {},
   "outputs": [],
   "source": [
    "for x in col.find(\n",
    "    {\"property_type\": \"House\"},\n",
    "    {\"_id\": 0, \"name\": 1, \"property_type\": 1, \"reviews\": {\"$slice\": -1}\n",
    "}).limit(3):\n",
    "    print(x)"
   ]
  },
  {
   "cell_type": "markdown",
   "metadata": {},
   "source": [
    "More about project fields: https://docs.mongodb.com/manual/tutorial/project-fields-from-query-results/"
   ]
  },
  {
   "cell_type": "markdown",
   "metadata": {},
   "source": [
    "### Query for null or missing fields"
   ]
  },
  {
   "cell_type": "code",
   "execution_count": null,
   "metadata": {},
   "outputs": [],
   "source": [
    "# It will raise an error because there is no documents without the name attribute\n",
    "col.find({\"name\": {\"$exists\": False}}, {\"_id\": 0, \"name\": 1})[0]"
   ]
  },
  {
   "cell_type": "code",
   "execution_count": null,
   "metadata": {},
   "outputs": [],
   "source": [
    "for x in col.find({\"reviews\": { \"$exists\": True, \"$type\": \"array\", \"$size\": 1}}, {\"_id\": 0, \"name\": 1, \"reviews\": 1}).limit(3):\n",
    "    print(x)"
   ]
  },
  {
   "cell_type": "code",
   "execution_count": null,
   "metadata": {},
   "outputs": [],
   "source": []
  }
 ],
 "metadata": {
  "kernelspec": {
   "display_name": "Python 3 (ipykernel)",
   "language": "python",
   "name": "python3"
  },
  "language_info": {
   "codemirror_mode": {
    "name": "ipython",
    "version": 3
   },
   "file_extension": ".py",
   "mimetype": "text/x-python",
   "name": "python",
   "nbconvert_exporter": "python",
   "pygments_lexer": "ipython3",
   "version": "3.9.12"
  }
 },
 "nbformat": 4,
 "nbformat_minor": 4
}
