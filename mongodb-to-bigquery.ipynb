{
 "cells": [
  {
   "cell_type": "markdown",
   "id": "4bc0302f-c459-4224-80e3-0384f7c92718",
   "metadata": {},
   "source": [
    "<a href=\"https://colab.research.google.com/github/datapreparation-javeriana/etl-tutorial/blob/master/mongodb-to-bigquery.ipynb\" target=\"_parent\"><img src=\"https://colab.research.google.com/assets/colab-badge.svg\" alt=\"Open In Colab\"/></a>"
   ]
  },
  {
   "cell_type": "markdown",
   "id": "512a4a77-714f-4119-895a-735d5420e18b",
   "metadata": {},
   "source": [
    "# MongoDB to BigQuery (ETL) tutorial\n",
    "\n",
    "Data Management course  \n",
    "Univerisdad Javeriana  \n",
    "March, 2023\n",
    "\n",
    "Dataset: AirBnB reviews"
   ]
  },
  {
   "cell_type": "code",
   "execution_count": null,
   "id": "0fb12440-439c-41c4-8f3a-9485398d3f2f",
   "metadata": {
    "tags": []
   },
   "outputs": [],
   "source": [
    "!pip install --upgrade google-cloud-bigquery"
   ]
  },
  {
   "cell_type": "code",
   "execution_count": null,
   "id": "0e297ecf-b0a4-490f-ada0-2da918e0fa02",
   "metadata": {
    "tags": []
   },
   "outputs": [],
   "source": [
    "!pip install pandas-gbq"
   ]
  },
  {
   "cell_type": "code",
   "execution_count": null,
   "id": "87266642-7d4f-453d-a0b3-6a73c1f58d07",
   "metadata": {
    "tags": []
   },
   "outputs": [],
   "source": [
    "!pip install db-dtypes"
   ]
  },
  {
   "cell_type": "code",
   "execution_count": null,
   "id": "d3b7d956-6d72-48e4-976a-7c7608ba6bdf",
   "metadata": {},
   "outputs": [],
   "source": [
    "import random\n",
    "import string\n",
    "\n",
    "import pymongo\n",
    "\n",
    "import numpy as np\n",
    "import pandas as pd\n",
    "\n",
    "from google.cloud import bigquery\n",
    "from google.oauth2 import service_account"
   ]
  },
  {
   "cell_type": "code",
   "execution_count": null,
   "id": "d4a661f3-c762-4dbc-ae8e-799410a5a558",
   "metadata": {},
   "outputs": [],
   "source": [
    "def get_random_string(length):\n",
    "    # choose from all lowercase letter\n",
    "    letters = string.ascii_lowercase\n",
    "    return \"\".join(random.choice(letters) for i in range(length))"
   ]
  },
  {
   "cell_type": "markdown",
   "id": "3c7a859d-3c8a-4393-b259-368153eaa40c",
   "metadata": {},
   "source": [
    "## 1. E: Extracting data"
   ]
  },
  {
   "cell_type": "code",
   "execution_count": null,
   "id": "1dc802ee-14c5-41c0-88d7-6751cdbdf766",
   "metadata": {},
   "outputs": [],
   "source": [
    "DB_NAME = \"sample_airbnb\"\n",
    "COLLECTION = \"listingsAndReviews\""
   ]
  },
  {
   "cell_type": "code",
   "execution_count": null,
   "id": "e86acebf-63e9-4588-adf2-666cadc14d41",
   "metadata": {},
   "outputs": [],
   "source": [
    "client = pymongo.MongoClient(\"mongodb+srv://<user>:<password>@cluster0.<cluster_id>.mongodb.net/?retryWrites=true&w=majority\", server_api=pymongo.server_api.ServerApi(\"1\"))"
   ]
  },
  {
   "cell_type": "code",
   "execution_count": null,
   "id": "6e26d597-275a-49f9-be5c-b6b6e025dff4",
   "metadata": {},
   "outputs": [],
   "source": [
    "db = client[DB_NAME]"
   ]
  },
  {
   "cell_type": "code",
   "execution_count": null,
   "id": "c8d3a82c-cd89-44b7-a64d-71e9577f8418",
   "metadata": {},
   "outputs": [],
   "source": [
    "col = db[COLLECTION]"
   ]
  },
  {
   "cell_type": "code",
   "execution_count": null,
   "id": "b8418697-cc9e-4193-8028-bd06e31d68d2",
   "metadata": {},
   "outputs": [],
   "source": [
    "df = pd.DataFrame(list(col.find({}, {\"_id\": 0, \"address.country\": 1, \"address.market\": 1, \"price\": 1})))"
   ]
  },
  {
   "cell_type": "code",
   "execution_count": null,
   "id": "d7d98def-457f-4287-acb8-e79a38fa6c7d",
   "metadata": {},
   "outputs": [],
   "source": [
    "df.shape"
   ]
  },
  {
   "cell_type": "code",
   "execution_count": null,
   "id": "09e41191-a532-44e8-9651-774100dce729",
   "metadata": {},
   "outputs": [],
   "source": [
    "df.dtypes"
   ]
  },
  {
   "cell_type": "code",
   "execution_count": null,
   "id": "4bc57525-fcea-4a6d-8389-31fe84ca1d2a",
   "metadata": {},
   "outputs": [],
   "source": [
    "df.head()"
   ]
  },
  {
   "cell_type": "markdown",
   "id": "1af46321-c945-407a-8d79-34c4c4d82839",
   "metadata": {},
   "source": [
    "## 2. T: Transforming data"
   ]
  },
  {
   "cell_type": "code",
   "execution_count": null,
   "id": "90c1f285-2155-4ac5-a449-dcdf4de9c7d3",
   "metadata": {},
   "outputs": [],
   "source": [
    "df = pd.concat([\n",
    "    df.drop(\"address\", axis=1),\n",
    "    pd.json_normalize(df[\"address\"])\n",
    "], axis=1)"
   ]
  },
  {
   "cell_type": "code",
   "execution_count": null,
   "id": "c0cb9ba6-1085-48d2-a50d-83ee0dde99aa",
   "metadata": {},
   "outputs": [],
   "source": [
    "df[\"price\"] = pd.to_numeric(df[\"price\"].astype(str))"
   ]
  },
  {
   "cell_type": "code",
   "execution_count": null,
   "id": "87d5ca02-b5cb-461e-afee-96932b8a8ebc",
   "metadata": {
    "tags": []
   },
   "outputs": [],
   "source": [
    "df.loc[df[\"market\"] == \"\", \"market\"] = \"Other\""
   ]
  },
  {
   "cell_type": "code",
   "execution_count": null,
   "id": "2aa8e41c-938c-41a4-9bf9-340df0377b88",
   "metadata": {},
   "outputs": [],
   "source": [
    "df.head()"
   ]
  },
  {
   "cell_type": "code",
   "execution_count": null,
   "id": "a50239a9-a86a-48c0-935d-52650ff455d1",
   "metadata": {},
   "outputs": [],
   "source": [
    "df_grouped = df.groupby([\"country\", \"market\"]).agg({\"price\": np.mean}).reset_index().rename(columns={\"price\": \"price_mean\"})"
   ]
  },
  {
   "cell_type": "code",
   "execution_count": null,
   "id": "3bc2a9ca-c1bf-4c53-9e38-a3e390be102b",
   "metadata": {},
   "outputs": [],
   "source": [
    "df_grouped.shape"
   ]
  },
  {
   "cell_type": "code",
   "execution_count": null,
   "id": "7407906a-0089-485b-9dcd-2a3db2032438",
   "metadata": {},
   "outputs": [],
   "source": [
    "df_grouped"
   ]
  },
  {
   "cell_type": "markdown",
   "id": "8b0f6e4c-e2b7-4d8c-b232-444d59a4e585",
   "metadata": {},
   "source": [
    "## 3. L: Loading data"
   ]
  },
  {
   "cell_type": "code",
   "execution_count": null,
   "id": "f3069c86-d86a-4ae3-8d6b-2216d9603149",
   "metadata": {},
   "outputs": [],
   "source": [
    "credentials = service_account.Credentials.from_service_account_file(\"./javeriana-dataprep.json\", scopes=[\"https://www.googleapis.com/auth/cloud-platform\"])"
   ]
  },
  {
   "cell_type": "code",
   "execution_count": null,
   "id": "933d1b10-9d91-465f-870f-bc78a16a7964",
   "metadata": {},
   "outputs": [],
   "source": [
    "client = bigquery.Client(credentials=credentials, project=credentials.project_id)"
   ]
  },
  {
   "cell_type": "code",
   "execution_count": null,
   "id": "09b7d626-8be6-4307-890f-be1daf21d9e1",
   "metadata": {},
   "outputs": [],
   "source": [
    "# Creating the job config\n",
    "job_config = bigquery.LoadJobConfig(\n",
    "    schema=[\n",
    "        # Supported datatypes: https://cloud.google.com/bigquery/docs/reference/standard-sql/data-types\n",
    "        bigquery.SchemaField(\"country\", bigquery.enums.SqlTypeNames.STRING),\n",
    "        bigquery.SchemaField(\"market\", bigquery.enums.SqlTypeNames.STRING),\n",
    "        bigquery.SchemaField(\"price_mean\", bigquery.enums.SqlTypeNames.FLOAT64)\n",
    "    ],\n",
    "    # Drod and re-create table, if exist\n",
    "    write_disposition=\"WRITE_TRUNCATE\"\n",
    ")"
   ]
  },
  {
   "cell_type": "code",
   "execution_count": null,
   "id": "a66f1495-2768-4669-8670-14a1dc8703fd",
   "metadata": {},
   "outputs": [],
   "source": [
    "BQ_TABLE_NAME = f\"AIRBNB.MARKET_STATS_{get_random_string(4)}\"\n",
    "print(BQ_TABLE_NAME)"
   ]
  },
  {
   "cell_type": "code",
   "execution_count": null,
   "id": "d5792a43-61b1-434b-b919-c3518fcf0df9",
   "metadata": {},
   "outputs": [],
   "source": [
    "# Sending the job to BigQuery\n",
    "job = client.load_table_from_dataframe(df_grouped, BQ_TABLE_NAME, job_config=job_config)\n",
    "job.result()"
   ]
  },
  {
   "cell_type": "code",
   "execution_count": null,
   "id": "9364e9ca-c45e-4f32-b428-43e7af0b137a",
   "metadata": {},
   "outputs": [],
   "source": [
    "# Verifying if table was successfully created or updated\n",
    "table = client.get_table(BQ_TABLE_NAME)\n",
    "print(\"Loaded {} rows and {} columns to {}\".format(table.num_rows, len(table.schema), BQ_TABLE_NAME))"
   ]
  },
  {
   "cell_type": "code",
   "execution_count": null,
   "id": "0a15dc1b-07d3-4bd8-b2a9-ab922a745f90",
   "metadata": {},
   "outputs": [],
   "source": [
    "query = f\"\"\"SELECT * FROM `javeriana-378220.{BQ_TABLE_NAME}`\"\"\"\n",
    "pd.read_gbq(query, credentials=credentials)"
   ]
  },
  {
   "cell_type": "code",
   "execution_count": null,
   "id": "acc76bb6-50e2-4469-83b7-103c5eb56b00",
   "metadata": {},
   "outputs": [],
   "source": []
  }
 ],
 "metadata": {
  "kernelspec": {
   "display_name": "Python 3 (ipykernel)",
   "language": "python",
   "name": "python3"
  },
  "language_info": {
   "codemirror_mode": {
    "name": "ipython",
    "version": 3
   },
   "file_extension": ".py",
   "mimetype": "text/x-python",
   "name": "python",
   "nbconvert_exporter": "python",
   "pygments_lexer": "ipython3",
   "version": "3.9.12"
  }
 },
 "nbformat": 4,
 "nbformat_minor": 5
}
