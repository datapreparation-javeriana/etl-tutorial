{
 "cells": [
  {
   "cell_type": "markdown",
   "id": "512a4a77-714f-4119-895a-735d5420e18b",
   "metadata": {},
   "source": [
    "# ETL tutorial"
   ]
  },
  {
   "cell_type": "code",
   "execution_count": null,
   "id": "0fb12440-439c-41c4-8f3a-9485398d3f2f",
   "metadata": {
    "tags": []
   },
   "outputs": [],
   "source": [
    "!pip install --upgrade google-cloud-bigquery"
   ]
  },
  {
   "cell_type": "code",
   "execution_count": null,
   "id": "0e297ecf-b0a4-490f-ada0-2da918e0fa02",
   "metadata": {
    "tags": []
   },
   "outputs": [],
   "source": [
    "!pip install pandas-gbq"
   ]
  },
  {
   "cell_type": "code",
   "execution_count": null,
   "id": "87266642-7d4f-453d-a0b3-6a73c1f58d07",
   "metadata": {
    "tags": []
   },
   "outputs": [],
   "source": [
    "!pip install db-dtypes"
   ]
  },
  {
   "cell_type": "code",
   "execution_count": null,
   "id": "d3b7d956-6d72-48e4-976a-7c7608ba6bdf",
   "metadata": {},
   "outputs": [],
   "source": [
    "import pymongo\n",
    "\n",
    "import pandas as pd\n",
    "import matplotlib.pyplot as plt\n",
    "\n",
    "from google.cloud import bigquery\n",
    "from google.oauth2 import service_account"
   ]
  },
  {
   "cell_type": "markdown",
   "id": "3c7a859d-3c8a-4393-b259-368153eaa40c",
   "metadata": {},
   "source": [
    "### Extracting data"
   ]
  },
  {
   "cell_type": "code",
   "execution_count": null,
   "id": "1dc802ee-14c5-41c0-88d7-6751cdbdf766",
   "metadata": {},
   "outputs": [],
   "source": [
    "DB_NAME = \"sample_airbnb\"\n",
    "COLLECTION = \"listingsAndReviews\""
   ]
  },
  {
   "cell_type": "code",
   "execution_count": null,
   "id": "e86acebf-63e9-4588-adf2-666cadc14d41",
   "metadata": {},
   "outputs": [],
   "source": [
    "client = pymongo.MongoClient(\"mongodb+srv://fabiancpl:<password>@cluster0.ys2ybhm.mongodb.net/?retryWrites=true&w=majority\", server_api = pymongo.server_api.ServerApi('1'))"
   ]
  },
  {
   "cell_type": "code",
   "execution_count": null,
   "id": "6e26d597-275a-49f9-be5c-b6b6e025dff4",
   "metadata": {},
   "outputs": [],
   "source": [
    "db = client[DB_NAME]"
   ]
  },
  {
   "cell_type": "code",
   "execution_count": null,
   "id": "c8d3a82c-cd89-44b7-a64d-71e9577f8418",
   "metadata": {},
   "outputs": [],
   "source": [
    "col = db[COLLECTION]"
   ]
  },
  {
   "cell_type": "code",
   "execution_count": null,
   "id": "b8418697-cc9e-4193-8028-bd06e31d68d2",
   "metadata": {},
   "outputs": [],
   "source": [
    "result = col.find({}, {\"_id\": 0, \"address.country\": 1, \"address.market\": 1, \"price\": 1})"
   ]
  },
  {
   "cell_type": "code",
   "execution_count": null,
   "id": "90c1f285-2155-4ac5-a449-dcdf4de9c7d3",
   "metadata": {},
   "outputs": [],
   "source": [
    "df = pd.json_normalize(result).rename(columns = {\"address.country\": \"country\", \"address.market\": \"market\"})"
   ]
  },
  {
   "cell_type": "code",
   "execution_count": null,
   "id": "c22edef9-e3cd-4187-a382-065a3ca1a0a9",
   "metadata": {},
   "outputs": [],
   "source": [
    "df.shape"
   ]
  },
  {
   "cell_type": "code",
   "execution_count": null,
   "id": "0cf3f4b7-9d0f-4bcc-8e37-49dd6553d3c2",
   "metadata": {},
   "outputs": [],
   "source": [
    "df.dtypes"
   ]
  },
  {
   "cell_type": "code",
   "execution_count": null,
   "id": "fa026db4-63f6-41f4-97ac-362ba5d79f3b",
   "metadata": {},
   "outputs": [],
   "source": [
    "df.sample(5)"
   ]
  },
  {
   "cell_type": "markdown",
   "id": "39c805bb-388a-4f77-ada4-d4a61b6e3ed8",
   "metadata": {},
   "source": [
    "### Exploring and cleaning data"
   ]
  },
  {
   "cell_type": "code",
   "execution_count": null,
   "id": "5bc37500-6f5f-412b-aa84-7aff4d53a2eb",
   "metadata": {},
   "outputs": [],
   "source": [
    "df[\"country\"].value_counts(dropna = False)"
   ]
  },
  {
   "cell_type": "code",
   "execution_count": null,
   "id": "5d62431a-2a77-4879-8cef-a5c62be272c4",
   "metadata": {},
   "outputs": [],
   "source": [
    "df.loc[df[\"market\"] == \"\", \"market\"] = \"Other\""
   ]
  },
  {
   "cell_type": "code",
   "execution_count": null,
   "id": "4a8774e8-5c78-421c-8975-40c49e42469f",
   "metadata": {},
   "outputs": [],
   "source": [
    "df[\"market\"].value_counts(dropna = False)"
   ]
  },
  {
   "cell_type": "code",
   "execution_count": null,
   "id": "7e064924-a5c1-4bf6-a6fb-75feff42d0ad",
   "metadata": {},
   "outputs": [],
   "source": [
    "df[\"price\"] = df[\"price\"].astype(str).astype(float)"
   ]
  },
  {
   "cell_type": "code",
   "execution_count": null,
   "id": "9380ea5f-ed99-424a-9ccc-722bf43e7090",
   "metadata": {},
   "outputs": [],
   "source": [
    "plt.figure(figsize = (20, 3))\n",
    "plt.boxplot(df[\"price\"], vert = False)\n",
    "plt.show()"
   ]
  },
  {
   "cell_type": "markdown",
   "id": "d7753e56-80bd-41e5-a94e-6c241f05a92a",
   "metadata": {},
   "source": [
    "### Transforming data"
   ]
  },
  {
   "cell_type": "code",
   "execution_count": null,
   "id": "8c2256be-e411-4d8f-b63a-78975fa6de5c",
   "metadata": {},
   "outputs": [],
   "source": [
    "df[\"count\"] = 1"
   ]
  },
  {
   "cell_type": "code",
   "execution_count": null,
   "id": "a50239a9-a86a-48c0-935d-52650ff455d1",
   "metadata": {},
   "outputs": [],
   "source": [
    "df_grouped = df.groupby([\"country\", \"market\"]).agg({\"count\": \"count\", \"price\": \"median\"}).reset_index().rename(columns = {\"price\": \"price_median\"})"
   ]
  },
  {
   "cell_type": "code",
   "execution_count": null,
   "id": "7407906a-0089-485b-9dcd-2a3db2032438",
   "metadata": {},
   "outputs": [],
   "source": [
    "df_grouped.sample(5)"
   ]
  },
  {
   "cell_type": "markdown",
   "id": "8b0f6e4c-e2b7-4d8c-b232-444d59a4e585",
   "metadata": {},
   "source": [
    "### Loading data"
   ]
  },
  {
   "cell_type": "code",
   "execution_count": null,
   "id": "f3069c86-d86a-4ae3-8d6b-2216d9603149",
   "metadata": {},
   "outputs": [],
   "source": [
    "credentials = service_account.Credentials.from_service_account_file(\"./javeriana-dataprep.json\", scopes = [\"https://www.googleapis.com/auth/cloud-platform\"])"
   ]
  },
  {
   "cell_type": "code",
   "execution_count": null,
   "id": "933d1b10-9d91-465f-870f-bc78a16a7964",
   "metadata": {},
   "outputs": [],
   "source": [
    "client = bigquery.Client(credentials = credentials, project = credentials.project_id)"
   ]
  },
  {
   "cell_type": "code",
   "execution_count": null,
   "id": "09b7d626-8be6-4307-890f-be1daf21d9e1",
   "metadata": {},
   "outputs": [],
   "source": [
    "# Creating the job config\n",
    "job_config = bigquery.LoadJobConfig(\n",
    "    schema = [\n",
    "        # Supported datatypes: https://cloud.google.com/bigquery/docs/reference/standard-sql/data-types\n",
    "        bigquery.SchemaField(\"country\", bigquery.enums.SqlTypeNames.STRING),\n",
    "        bigquery.SchemaField(\"market\", bigquery.enums.SqlTypeNames.STRING),\n",
    "        bigquery.SchemaField(\"count\", bigquery.enums.SqlTypeNames.INT64),\n",
    "        bigquery.SchemaField(\"price_median\", bigquery.enums.SqlTypeNames.FLOAT64)\n",
    "    ],\n",
    "    # Drod and re-create table, if exist\n",
    "    write_disposition = \"WRITE_TRUNCATE\",\n",
    ")"
   ]
  },
  {
   "cell_type": "code",
   "execution_count": null,
   "id": "a66f1495-2768-4669-8670-14a1dc8703fd",
   "metadata": {},
   "outputs": [],
   "source": [
    "BQ_TABLE_NAME = \"dataprep.listings_country_market\""
   ]
  },
  {
   "cell_type": "code",
   "execution_count": null,
   "id": "d5792a43-61b1-434b-b919-c3518fcf0df9",
   "metadata": {},
   "outputs": [],
   "source": [
    "# Sending the job to BigQuery\n",
    "job = client.load_table_from_dataframe(\n",
    "    df_grouped, BQ_TABLE_NAME, job_config = job_config\n",
    ")\n",
    "\n",
    "job.result()"
   ]
  },
  {
   "cell_type": "code",
   "execution_count": null,
   "id": "9364e9ca-c45e-4f32-b428-43e7af0b137a",
   "metadata": {},
   "outputs": [],
   "source": [
    "# Verifying if table was successfully created or updated\n",
    "table = client.get_table(BQ_TABLE_NAME)\n",
    "\n",
    "print(\"Loaded {} rows and {} columns to {}\".format(table.num_rows, len(table.schema), BQ_TABLE_NAME))"
   ]
  },
  {
   "cell_type": "code",
   "execution_count": null,
   "id": "0a15dc1b-07d3-4bd8-b2a9-ab922a745f90",
   "metadata": {},
   "outputs": [],
   "source": [
    "query = \"\"\"SELECT * FROM `javeriana-dataprep.dataprep.listings_country_market`\"\"\"\n",
    "\n",
    "pd.read_gbq(query, credentials = credentials)"
   ]
  },
  {
   "cell_type": "code",
   "execution_count": null,
   "id": "c6b37074-a109-4634-a13f-fa7f64f38710",
   "metadata": {},
   "outputs": [],
   "source": []
  }
 ],
 "metadata": {
  "kernelspec": {
   "display_name": "Python 3 (ipykernel)",
   "language": "python",
   "name": "python3"
  },
  "language_info": {
   "codemirror_mode": {
    "name": "ipython",
    "version": 3
   },
   "file_extension": ".py",
   "mimetype": "text/x-python",
   "name": "python",
   "nbconvert_exporter": "python",
   "pygments_lexer": "ipython3",
   "version": "3.9.12"
  }
 },
 "nbformat": 4,
 "nbformat_minor": 5
}
